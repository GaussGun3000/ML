{
 "cells": [
  {
   "cell_type": "code",
   "execution_count": 1,
   "id": "initial_id",
   "metadata": {
    "collapsed": true,
    "ExecuteTime": {
     "end_time": "2023-10-24T10:55:25.984210200Z",
     "start_time": "2023-10-24T10:55:25.558109300Z"
    }
   },
   "outputs": [],
   "source": [
    "import numpy as np\n",
    "import pandas as pd\n",
    "import matplotlib.pyplot as plt\n",
    "import seaborn as sns\n",
    "from sklearn.model_selection import GridSearchCV\n",
    "from sklearn.neighbors import KNeighborsClassifier\n",
    "from sklearn.svm import LinearSVC\n",
    "from sklearn import tree\n",
    "from sklearn.tree import DecisionTreeClassifier, export_graphviz\n",
    "from sklearn.ensemble import RandomForestClassifier\n",
    "from sklearn.ensemble import GradientBoostingClassifier\n",
    "\n",
    "from sklearn.model_selection import train_test_split\n",
    "from sklearn.datasets import load_breast_cancer\n",
    "from sklearn.metrics import confusion_matrix, precision_score, recall_score, f1_score, classification_report, roc_auc_score, ConfusionMatrixDisplay, roc_curve, auc\n"
   ]
  },
  {
   "cell_type": "code",
   "execution_count": 2,
   "outputs": [
    {
     "data": {
      "text/plain": "   dep_time  sched_dep_time  dep_delay  arr_time  sched_arr_time  arr_delay  \\\n0     517.0             515        2.0     830.0             819       11.0   \n1     533.0             529        4.0     850.0             830       20.0   \n2     542.0             540        2.0     923.0             850       33.0   \n3     544.0             545       -1.0    1004.0            1022      -18.0   \n4     554.0             600       -6.0     812.0             837      -25.0   \n\n  carrier  flight tailnum origin dest  air_time  distance  \\\n0      UA    1545  N14228    EWR  IAH     227.0      1400   \n1      UA    1714  N24211    LGA  IAH     227.0      1416   \n2      AA    1141  N619AA    JFK  MIA     160.0      1089   \n3      B6     725  N804JB    JFK  BQN     183.0      1576   \n4      DL     461  N668DN    LGA  ATL     116.0       762   \n\n                     name   dep_sched_datetime  is_long_flight  is_delayed  \n0   United Air Lines Inc.  2013-01-01 05:15:00           False        True  \n1   United Air Lines Inc.  2013-01-01 05:15:00           False        True  \n2  American Airlines Inc.  2013-01-01 05:15:00           False        True  \n3         JetBlue Airways  2013-01-01 05:15:00           False       False  \n4    Delta Air Lines Inc.  2013-01-01 06:15:00           False       False  ",
      "text/html": "<div>\n<style scoped>\n    .dataframe tbody tr th:only-of-type {\n        vertical-align: middle;\n    }\n\n    .dataframe tbody tr th {\n        vertical-align: top;\n    }\n\n    .dataframe thead th {\n        text-align: right;\n    }\n</style>\n<table border=\"1\" class=\"dataframe\">\n  <thead>\n    <tr style=\"text-align: right;\">\n      <th></th>\n      <th>dep_time</th>\n      <th>sched_dep_time</th>\n      <th>dep_delay</th>\n      <th>arr_time</th>\n      <th>sched_arr_time</th>\n      <th>arr_delay</th>\n      <th>carrier</th>\n      <th>flight</th>\n      <th>tailnum</th>\n      <th>origin</th>\n      <th>dest</th>\n      <th>air_time</th>\n      <th>distance</th>\n      <th>name</th>\n      <th>dep_sched_datetime</th>\n      <th>is_long_flight</th>\n      <th>is_delayed</th>\n    </tr>\n  </thead>\n  <tbody>\n    <tr>\n      <th>0</th>\n      <td>517.0</td>\n      <td>515</td>\n      <td>2.0</td>\n      <td>830.0</td>\n      <td>819</td>\n      <td>11.0</td>\n      <td>UA</td>\n      <td>1545</td>\n      <td>N14228</td>\n      <td>EWR</td>\n      <td>IAH</td>\n      <td>227.0</td>\n      <td>1400</td>\n      <td>United Air Lines Inc.</td>\n      <td>2013-01-01 05:15:00</td>\n      <td>False</td>\n      <td>True</td>\n    </tr>\n    <tr>\n      <th>1</th>\n      <td>533.0</td>\n      <td>529</td>\n      <td>4.0</td>\n      <td>850.0</td>\n      <td>830</td>\n      <td>20.0</td>\n      <td>UA</td>\n      <td>1714</td>\n      <td>N24211</td>\n      <td>LGA</td>\n      <td>IAH</td>\n      <td>227.0</td>\n      <td>1416</td>\n      <td>United Air Lines Inc.</td>\n      <td>2013-01-01 05:15:00</td>\n      <td>False</td>\n      <td>True</td>\n    </tr>\n    <tr>\n      <th>2</th>\n      <td>542.0</td>\n      <td>540</td>\n      <td>2.0</td>\n      <td>923.0</td>\n      <td>850</td>\n      <td>33.0</td>\n      <td>AA</td>\n      <td>1141</td>\n      <td>N619AA</td>\n      <td>JFK</td>\n      <td>MIA</td>\n      <td>160.0</td>\n      <td>1089</td>\n      <td>American Airlines Inc.</td>\n      <td>2013-01-01 05:15:00</td>\n      <td>False</td>\n      <td>True</td>\n    </tr>\n    <tr>\n      <th>3</th>\n      <td>544.0</td>\n      <td>545</td>\n      <td>-1.0</td>\n      <td>1004.0</td>\n      <td>1022</td>\n      <td>-18.0</td>\n      <td>B6</td>\n      <td>725</td>\n      <td>N804JB</td>\n      <td>JFK</td>\n      <td>BQN</td>\n      <td>183.0</td>\n      <td>1576</td>\n      <td>JetBlue Airways</td>\n      <td>2013-01-01 05:15:00</td>\n      <td>False</td>\n      <td>False</td>\n    </tr>\n    <tr>\n      <th>4</th>\n      <td>554.0</td>\n      <td>600</td>\n      <td>-6.0</td>\n      <td>812.0</td>\n      <td>837</td>\n      <td>-25.0</td>\n      <td>DL</td>\n      <td>461</td>\n      <td>N668DN</td>\n      <td>LGA</td>\n      <td>ATL</td>\n      <td>116.0</td>\n      <td>762</td>\n      <td>Delta Air Lines Inc.</td>\n      <td>2013-01-01 06:15:00</td>\n      <td>False</td>\n      <td>False</td>\n    </tr>\n  </tbody>\n</table>\n</div>"
     },
     "execution_count": 2,
     "metadata": {},
     "output_type": "execute_result"
    }
   ],
   "source": [
    "df = pd.read_csv(\"clean_data.csv\")\n",
    "df.head()\n"
   ],
   "metadata": {
    "collapsed": false,
    "ExecuteTime": {
     "end_time": "2023-10-24T10:55:26.414305900Z",
     "start_time": "2023-10-24T10:55:25.985210800Z"
    }
   },
   "id": "29977901fc2a0535"
  },
  {
   "cell_type": "markdown",
   "source": [
    "### Подготовка к обучению моделей"
   ],
   "metadata": {
    "collapsed": false
   },
   "id": "eaa666e1858b383a"
  },
  {
   "cell_type": "code",
   "execution_count": 3,
   "outputs": [
    {
     "data": {
      "text/plain": "        sched_dep_time  sched_arr_time  distance  carrier_9E  carrier_AA  \\\n0                  515             819      1400       False       False   \n1                  529             830      1416       False       False   \n2                  540             850      1089       False        True   \n3                  545            1022      1576       False       False   \n4                  600             837       762       False       False   \n...                ...             ...       ...         ...         ...   \n327299            2245            2351       209       False       False   \n327300            2250               7       301       False       False   \n327301            2246               1       264       False       False   \n327302            2255            2358       187       False       False   \n327303            2359             350      1617       False       False   \n\n        carrier_AS  carrier_B6  carrier_DL  carrier_EV  carrier_F9  ...  \\\n0            False       False       False       False       False  ...   \n1            False       False       False       False       False  ...   \n2            False       False       False       False       False  ...   \n3            False        True       False       False       False  ...   \n4            False       False        True       False       False  ...   \n...            ...         ...         ...         ...         ...  ...   \n327299       False        True       False       False       False  ...   \n327300       False        True       False       False       False  ...   \n327301       False        True       False       False       False  ...   \n327302       False        True       False       False       False  ...   \n327303       False        True       False       False       False  ...   \n\n        dest_SNA  dest_SRQ  dest_STL  dest_STT  dest_SYR  dest_TPA  dest_TUL  \\\n0          False     False     False     False     False     False     False   \n1          False     False     False     False     False     False     False   \n2          False     False     False     False     False     False     False   \n3          False     False     False     False     False     False     False   \n4          False     False     False     False     False     False     False   \n...          ...       ...       ...       ...       ...       ...       ...   \n327299     False     False     False     False      True     False     False   \n327300     False     False     False     False     False     False     False   \n327301     False     False     False     False     False     False     False   \n327302     False     False     False     False     False     False     False   \n327303     False     False     False     False     False     False     False   \n\n        dest_TVC  dest_TYS  dest_XNA  \n0          False     False     False  \n1          False     False     False  \n2          False     False     False  \n3          False     False     False  \n4          False     False     False  \n...          ...       ...       ...  \n327299     False     False     False  \n327300     False     False     False  \n327301     False     False     False  \n327302     False     False     False  \n327303     False     False     False  \n\n[327304 rows x 126 columns]",
      "text/html": "<div>\n<style scoped>\n    .dataframe tbody tr th:only-of-type {\n        vertical-align: middle;\n    }\n\n    .dataframe tbody tr th {\n        vertical-align: top;\n    }\n\n    .dataframe thead th {\n        text-align: right;\n    }\n</style>\n<table border=\"1\" class=\"dataframe\">\n  <thead>\n    <tr style=\"text-align: right;\">\n      <th></th>\n      <th>sched_dep_time</th>\n      <th>sched_arr_time</th>\n      <th>distance</th>\n      <th>carrier_9E</th>\n      <th>carrier_AA</th>\n      <th>carrier_AS</th>\n      <th>carrier_B6</th>\n      <th>carrier_DL</th>\n      <th>carrier_EV</th>\n      <th>carrier_F9</th>\n      <th>...</th>\n      <th>dest_SNA</th>\n      <th>dest_SRQ</th>\n      <th>dest_STL</th>\n      <th>dest_STT</th>\n      <th>dest_SYR</th>\n      <th>dest_TPA</th>\n      <th>dest_TUL</th>\n      <th>dest_TVC</th>\n      <th>dest_TYS</th>\n      <th>dest_XNA</th>\n    </tr>\n  </thead>\n  <tbody>\n    <tr>\n      <th>0</th>\n      <td>515</td>\n      <td>819</td>\n      <td>1400</td>\n      <td>False</td>\n      <td>False</td>\n      <td>False</td>\n      <td>False</td>\n      <td>False</td>\n      <td>False</td>\n      <td>False</td>\n      <td>...</td>\n      <td>False</td>\n      <td>False</td>\n      <td>False</td>\n      <td>False</td>\n      <td>False</td>\n      <td>False</td>\n      <td>False</td>\n      <td>False</td>\n      <td>False</td>\n      <td>False</td>\n    </tr>\n    <tr>\n      <th>1</th>\n      <td>529</td>\n      <td>830</td>\n      <td>1416</td>\n      <td>False</td>\n      <td>False</td>\n      <td>False</td>\n      <td>False</td>\n      <td>False</td>\n      <td>False</td>\n      <td>False</td>\n      <td>...</td>\n      <td>False</td>\n      <td>False</td>\n      <td>False</td>\n      <td>False</td>\n      <td>False</td>\n      <td>False</td>\n      <td>False</td>\n      <td>False</td>\n      <td>False</td>\n      <td>False</td>\n    </tr>\n    <tr>\n      <th>2</th>\n      <td>540</td>\n      <td>850</td>\n      <td>1089</td>\n      <td>False</td>\n      <td>True</td>\n      <td>False</td>\n      <td>False</td>\n      <td>False</td>\n      <td>False</td>\n      <td>False</td>\n      <td>...</td>\n      <td>False</td>\n      <td>False</td>\n      <td>False</td>\n      <td>False</td>\n      <td>False</td>\n      <td>False</td>\n      <td>False</td>\n      <td>False</td>\n      <td>False</td>\n      <td>False</td>\n    </tr>\n    <tr>\n      <th>3</th>\n      <td>545</td>\n      <td>1022</td>\n      <td>1576</td>\n      <td>False</td>\n      <td>False</td>\n      <td>False</td>\n      <td>True</td>\n      <td>False</td>\n      <td>False</td>\n      <td>False</td>\n      <td>...</td>\n      <td>False</td>\n      <td>False</td>\n      <td>False</td>\n      <td>False</td>\n      <td>False</td>\n      <td>False</td>\n      <td>False</td>\n      <td>False</td>\n      <td>False</td>\n      <td>False</td>\n    </tr>\n    <tr>\n      <th>4</th>\n      <td>600</td>\n      <td>837</td>\n      <td>762</td>\n      <td>False</td>\n      <td>False</td>\n      <td>False</td>\n      <td>False</td>\n      <td>True</td>\n      <td>False</td>\n      <td>False</td>\n      <td>...</td>\n      <td>False</td>\n      <td>False</td>\n      <td>False</td>\n      <td>False</td>\n      <td>False</td>\n      <td>False</td>\n      <td>False</td>\n      <td>False</td>\n      <td>False</td>\n      <td>False</td>\n    </tr>\n    <tr>\n      <th>...</th>\n      <td>...</td>\n      <td>...</td>\n      <td>...</td>\n      <td>...</td>\n      <td>...</td>\n      <td>...</td>\n      <td>...</td>\n      <td>...</td>\n      <td>...</td>\n      <td>...</td>\n      <td>...</td>\n      <td>...</td>\n      <td>...</td>\n      <td>...</td>\n      <td>...</td>\n      <td>...</td>\n      <td>...</td>\n      <td>...</td>\n      <td>...</td>\n      <td>...</td>\n      <td>...</td>\n    </tr>\n    <tr>\n      <th>327299</th>\n      <td>2245</td>\n      <td>2351</td>\n      <td>209</td>\n      <td>False</td>\n      <td>False</td>\n      <td>False</td>\n      <td>True</td>\n      <td>False</td>\n      <td>False</td>\n      <td>False</td>\n      <td>...</td>\n      <td>False</td>\n      <td>False</td>\n      <td>False</td>\n      <td>False</td>\n      <td>True</td>\n      <td>False</td>\n      <td>False</td>\n      <td>False</td>\n      <td>False</td>\n      <td>False</td>\n    </tr>\n    <tr>\n      <th>327300</th>\n      <td>2250</td>\n      <td>7</td>\n      <td>301</td>\n      <td>False</td>\n      <td>False</td>\n      <td>False</td>\n      <td>True</td>\n      <td>False</td>\n      <td>False</td>\n      <td>False</td>\n      <td>...</td>\n      <td>False</td>\n      <td>False</td>\n      <td>False</td>\n      <td>False</td>\n      <td>False</td>\n      <td>False</td>\n      <td>False</td>\n      <td>False</td>\n      <td>False</td>\n      <td>False</td>\n    </tr>\n    <tr>\n      <th>327301</th>\n      <td>2246</td>\n      <td>1</td>\n      <td>264</td>\n      <td>False</td>\n      <td>False</td>\n      <td>False</td>\n      <td>True</td>\n      <td>False</td>\n      <td>False</td>\n      <td>False</td>\n      <td>...</td>\n      <td>False</td>\n      <td>False</td>\n      <td>False</td>\n      <td>False</td>\n      <td>False</td>\n      <td>False</td>\n      <td>False</td>\n      <td>False</td>\n      <td>False</td>\n      <td>False</td>\n    </tr>\n    <tr>\n      <th>327302</th>\n      <td>2255</td>\n      <td>2358</td>\n      <td>187</td>\n      <td>False</td>\n      <td>False</td>\n      <td>False</td>\n      <td>True</td>\n      <td>False</td>\n      <td>False</td>\n      <td>False</td>\n      <td>...</td>\n      <td>False</td>\n      <td>False</td>\n      <td>False</td>\n      <td>False</td>\n      <td>False</td>\n      <td>False</td>\n      <td>False</td>\n      <td>False</td>\n      <td>False</td>\n      <td>False</td>\n    </tr>\n    <tr>\n      <th>327303</th>\n      <td>2359</td>\n      <td>350</td>\n      <td>1617</td>\n      <td>False</td>\n      <td>False</td>\n      <td>False</td>\n      <td>True</td>\n      <td>False</td>\n      <td>False</td>\n      <td>False</td>\n      <td>...</td>\n      <td>False</td>\n      <td>False</td>\n      <td>False</td>\n      <td>False</td>\n      <td>False</td>\n      <td>False</td>\n      <td>False</td>\n      <td>False</td>\n      <td>False</td>\n      <td>False</td>\n    </tr>\n  </tbody>\n</table>\n<p>327304 rows × 126 columns</p>\n</div>"
     },
     "execution_count": 3,
     "metadata": {},
     "output_type": "execute_result"
    }
   ],
   "source": [
    "X = df[['carrier', 'origin', 'dest', 'sched_dep_time', 'sched_arr_time', 'distance']]\n",
    "\n",
    "# Perform one-hot encoding for categorical variables (carrier, origin, dest)\n",
    "X = pd.get_dummies(X, columns=['carrier', 'origin', 'dest'], drop_first=False)\n",
    "\n",
    "X"
   ],
   "metadata": {
    "collapsed": false,
    "ExecuteTime": {
     "end_time": "2023-10-24T10:55:26.635356100Z",
     "start_time": "2023-10-24T10:55:26.409305300Z"
    }
   },
   "id": "2cf9bfe51d01e63c"
  },
  {
   "cell_type": "code",
   "execution_count": 4,
   "outputs": [],
   "source": [
    "X_train, X_test, y_train, y_test = train_test_split(X, df.is_delayed, test_size=0.2, random_state=12)"
   ],
   "metadata": {
    "collapsed": false,
    "ExecuteTime": {
     "end_time": "2023-10-24T10:55:26.716373600Z",
     "start_time": "2023-10-24T10:55:26.633355900Z"
    }
   },
   "id": "ed559f8ddcfaf580"
  },
  {
   "cell_type": "markdown",
   "source": [
    "### К-ближайших соседей (KNN)"
   ],
   "metadata": {
    "collapsed": false
   },
   "id": "a881421ff7ef24a4"
  },
  {
   "cell_type": "code",
   "execution_count": 5,
   "outputs": [
    {
     "data": {
      "text/plain": "GridSearchCV(cv=5, estimator=KNeighborsClassifier(), n_jobs=-1,\n             param_grid={'n_neighbors': [2, 3, 4, 5]})",
      "text/html": "<style>#sk-container-id-1 {color: black;}#sk-container-id-1 pre{padding: 0;}#sk-container-id-1 div.sk-toggleable {background-color: white;}#sk-container-id-1 label.sk-toggleable__label {cursor: pointer;display: block;width: 100%;margin-bottom: 0;padding: 0.3em;box-sizing: border-box;text-align: center;}#sk-container-id-1 label.sk-toggleable__label-arrow:before {content: \"▸\";float: left;margin-right: 0.25em;color: #696969;}#sk-container-id-1 label.sk-toggleable__label-arrow:hover:before {color: black;}#sk-container-id-1 div.sk-estimator:hover label.sk-toggleable__label-arrow:before {color: black;}#sk-container-id-1 div.sk-toggleable__content {max-height: 0;max-width: 0;overflow: hidden;text-align: left;background-color: #f0f8ff;}#sk-container-id-1 div.sk-toggleable__content pre {margin: 0.2em;color: black;border-radius: 0.25em;background-color: #f0f8ff;}#sk-container-id-1 input.sk-toggleable__control:checked~div.sk-toggleable__content {max-height: 200px;max-width: 100%;overflow: auto;}#sk-container-id-1 input.sk-toggleable__control:checked~label.sk-toggleable__label-arrow:before {content: \"▾\";}#sk-container-id-1 div.sk-estimator input.sk-toggleable__control:checked~label.sk-toggleable__label {background-color: #d4ebff;}#sk-container-id-1 div.sk-label input.sk-toggleable__control:checked~label.sk-toggleable__label {background-color: #d4ebff;}#sk-container-id-1 input.sk-hidden--visually {border: 0;clip: rect(1px 1px 1px 1px);clip: rect(1px, 1px, 1px, 1px);height: 1px;margin: -1px;overflow: hidden;padding: 0;position: absolute;width: 1px;}#sk-container-id-1 div.sk-estimator {font-family: monospace;background-color: #f0f8ff;border: 1px dotted black;border-radius: 0.25em;box-sizing: border-box;margin-bottom: 0.5em;}#sk-container-id-1 div.sk-estimator:hover {background-color: #d4ebff;}#sk-container-id-1 div.sk-parallel-item::after {content: \"\";width: 100%;border-bottom: 1px solid gray;flex-grow: 1;}#sk-container-id-1 div.sk-label:hover label.sk-toggleable__label {background-color: #d4ebff;}#sk-container-id-1 div.sk-serial::before {content: \"\";position: absolute;border-left: 1px solid gray;box-sizing: border-box;top: 0;bottom: 0;left: 50%;z-index: 0;}#sk-container-id-1 div.sk-serial {display: flex;flex-direction: column;align-items: center;background-color: white;padding-right: 0.2em;padding-left: 0.2em;position: relative;}#sk-container-id-1 div.sk-item {position: relative;z-index: 1;}#sk-container-id-1 div.sk-parallel {display: flex;align-items: stretch;justify-content: center;background-color: white;position: relative;}#sk-container-id-1 div.sk-item::before, #sk-container-id-1 div.sk-parallel-item::before {content: \"\";position: absolute;border-left: 1px solid gray;box-sizing: border-box;top: 0;bottom: 0;left: 50%;z-index: -1;}#sk-container-id-1 div.sk-parallel-item {display: flex;flex-direction: column;z-index: 1;position: relative;background-color: white;}#sk-container-id-1 div.sk-parallel-item:first-child::after {align-self: flex-end;width: 50%;}#sk-container-id-1 div.sk-parallel-item:last-child::after {align-self: flex-start;width: 50%;}#sk-container-id-1 div.sk-parallel-item:only-child::after {width: 0;}#sk-container-id-1 div.sk-dashed-wrapped {border: 1px dashed gray;margin: 0 0.4em 0.5em 0.4em;box-sizing: border-box;padding-bottom: 0.4em;background-color: white;}#sk-container-id-1 div.sk-label label {font-family: monospace;font-weight: bold;display: inline-block;line-height: 1.2em;}#sk-container-id-1 div.sk-label-container {text-align: center;}#sk-container-id-1 div.sk-container {/* jupyter's `normalize.less` sets `[hidden] { display: none; }` but bootstrap.min.css set `[hidden] { display: none !important; }` so we also need the `!important` here to be able to override the default hidden behavior on the sphinx rendered scikit-learn.org. See: https://github.com/scikit-learn/scikit-learn/issues/21755 */display: inline-block !important;position: relative;}#sk-container-id-1 div.sk-text-repr-fallback {display: none;}</style><div id=\"sk-container-id-1\" class=\"sk-top-container\"><div class=\"sk-text-repr-fallback\"><pre>GridSearchCV(cv=5, estimator=KNeighborsClassifier(), n_jobs=-1,\n             param_grid={&#x27;n_neighbors&#x27;: [2, 3, 4, 5]})</pre><b>In a Jupyter environment, please rerun this cell to show the HTML representation or trust the notebook. <br />On GitHub, the HTML representation is unable to render, please try loading this page with nbviewer.org.</b></div><div class=\"sk-container\" hidden><div class=\"sk-item sk-dashed-wrapped\"><div class=\"sk-label-container\"><div class=\"sk-label sk-toggleable\"><input class=\"sk-toggleable__control sk-hidden--visually\" id=\"sk-estimator-id-1\" type=\"checkbox\" ><label for=\"sk-estimator-id-1\" class=\"sk-toggleable__label sk-toggleable__label-arrow\">GridSearchCV</label><div class=\"sk-toggleable__content\"><pre>GridSearchCV(cv=5, estimator=KNeighborsClassifier(), n_jobs=-1,\n             param_grid={&#x27;n_neighbors&#x27;: [2, 3, 4, 5]})</pre></div></div></div><div class=\"sk-parallel\"><div class=\"sk-parallel-item\"><div class=\"sk-item\"><div class=\"sk-label-container\"><div class=\"sk-label sk-toggleable\"><input class=\"sk-toggleable__control sk-hidden--visually\" id=\"sk-estimator-id-2\" type=\"checkbox\" ><label for=\"sk-estimator-id-2\" class=\"sk-toggleable__label sk-toggleable__label-arrow\">estimator: KNeighborsClassifier</label><div class=\"sk-toggleable__content\"><pre>KNeighborsClassifier()</pre></div></div></div><div class=\"sk-serial\"><div class=\"sk-item\"><div class=\"sk-estimator sk-toggleable\"><input class=\"sk-toggleable__control sk-hidden--visually\" id=\"sk-estimator-id-3\" type=\"checkbox\" ><label for=\"sk-estimator-id-3\" class=\"sk-toggleable__label sk-toggleable__label-arrow\">KNeighborsClassifier</label><div class=\"sk-toggleable__content\"><pre>KNeighborsClassifier()</pre></div></div></div></div></div></div></div></div></div></div>"
     },
     "execution_count": 5,
     "metadata": {},
     "output_type": "execute_result"
    }
   ],
   "source": [
    "model_KNN = KNeighborsClassifier()\n",
    "KNN_params= {\"n_neighbors\": [2, 3, 4, 5]}\n",
    "grid_search_KNN = GridSearchCV(model_KNN, KNN_params, cv=5, n_jobs=-1)\n",
    "grid_search_KNN.fit(X_train, y_train)"
   ],
   "metadata": {
    "collapsed": false,
    "ExecuteTime": {
     "end_time": "2023-10-24T11:15:08.151899100Z",
     "start_time": "2023-10-24T10:55:26.713373100Z"
    }
   },
   "id": "a6aa2526aa9d465e"
  },
  {
   "cell_type": "markdown",
   "source": [
    "#### Оценка качества"
   ],
   "metadata": {
    "collapsed": false
   },
   "id": "b1c347d3fca92a33"
  },
  {
   "cell_type": "code",
   "execution_count": null,
   "outputs": [
    {
     "name": "stdout",
     "output_type": "stream",
     "text": [
      "best params: {'n_neighbors': 4}\n",
      "best score: 0.6128710683390759\n"
     ]
    }
   ],
   "source": [
    "best_model_KNN = grid_search_KNN.best_estimator_\n",
    "best_params_KNN = grid_search_KNN.best_params_\n",
    "best_score_KNN = grid_search_KNN.best_score_\n",
    "pred_KNN = best_model_KNN.predict(X_test)\n",
    "cm_KNN = confusion_matrix(y_test, pred_KNN)\n",
    "print(f\"best params: {best_params_KNN}\")\n",
    "print(f\"best score: {best_score_KNN}\")\n",
    "print(f\"Train score: {best_model_KNN.score(X_train, y_train)}\")\n",
    "print(f\"Test score: {best_model_KNN.score(X_test, y_test)}\")\n",
    "print(f\"Confusion_matrix:\\n{confusion_matrix(y_test, pred_KNN)}\")\n",
    "print(f\"Precision, recall and f1-score:\\n{classification_report(y_test, pred_KNN, target_names=['On-Time', 'Delayed'])}\")\n",
    "print(f\"ROC-AUC score: {roc_auc_score(y_test, best_model_KNN.predict_proba(X_test)[:, 1])}\")\n",
    "print(f\"CV_results: {pd.DataFrame(grid_search_KNN.cv_results_)}\")"
   ],
   "metadata": {
    "collapsed": false,
    "is_executing": true,
    "ExecuteTime": {
     "start_time": "2023-10-24T11:15:08.172904300Z"
    }
   },
   "id": "ccff3a9978f0d32e"
  },
  {
   "cell_type": "code",
   "execution_count": null,
   "outputs": [],
   "source": [
    "fpr, tpr, thresholds = roc_curve(y_test, best_model_KNN.predict_proba(X_test)[:, 1])\n",
    "roc_auc = auc(fpr, tpr)\n",
    "plt.figure(figsize=(8, 6))\n",
    "plt.plot(fpr, tpr, color='darkorange', lw=2, label='ROC curve (area = {:.2f})'.format(roc_auc))\n",
    "plt.plot([0, 1], [0, 1], color='navy', lw=2, linestyle='--')\n",
    "plt.xlim([0.0, 1.0])\n",
    "plt.ylim([0.0, 1.05])\n",
    "plt.xlabel('False Positive Rate')\n",
    "plt.ylabel('True Positive Rate')\n",
    "plt.title('Receiver Operating Characteristic')\n",
    "plt.legend(loc='lower right')\n",
    "plt.show()\n"
   ],
   "metadata": {
    "collapsed": false,
    "is_executing": true
   },
   "id": "22e5ea3c02052ae3"
  },
  {
   "cell_type": "code",
   "execution_count": null,
   "outputs": [],
   "source": [
    "ConfusionMatrixDisplay(confusion_matrix=cm_KNN, display_labels=['On-Time', 'Delayed']).plot()"
   ],
   "metadata": {
    "collapsed": false,
    "is_executing": true
   },
   "id": "e4e5546f36233def"
  },
  {
   "cell_type": "markdown",
   "source": [
    "### Машина опорных векторов (SVM)"
   ],
   "metadata": {
    "collapsed": false
   },
   "id": "8d50266a96e2cf0c"
  },
  {
   "cell_type": "code",
   "execution_count": null,
   "outputs": [],
   "source": [
    "param_grid = {\n",
    "    'C': [0.1, 1, 10, 100],\n",
    "}\n",
    "\n",
    "svm = LinearSVC(random_state=12) \n",
    "grid_search_SVM = GridSearchCV(svm, param_grid, cv=5, scoring='accuracy', n_jobs=-1)\n",
    "grid_search_SVM.fit(X_train, y_train)"
   ],
   "metadata": {
    "collapsed": false,
    "is_executing": true
   },
   "id": "5269cc39ea380e67"
  },
  {
   "cell_type": "code",
   "execution_count": null,
   "outputs": [],
   "source": [
    "best_model_SVM = grid_search_SVM.best_estimator_\n",
    "best_params_SVM = grid_search_SVM.best_params_\n",
    "best_score_SVM = grid_search_SVM.best_score_\n",
    "pred_SVM = best_model_SVM.predict(X_test)\n",
    "cm_SVM = confusion_matrix(y_test, pred_SVM)\n",
    "print(f\"best params: {best_params_SVM}\")\n",
    "print(f\"best score: {best_score_SVM}\")\n",
    "print(f\"Train score: {best_model_SVM.score(X_train, y_train)}\")\n",
    "print(f\"Test score: {best_model_SVM.score(X_test, y_test)}\")\n",
    "print(f\"Confusion_matrix:\\n{confusion_matrix(y_test, pred_SVM)}\")\n",
    "print(f\"Precision, recall and f1-score:\\n{classification_report(y_test, pred_SVM, target_names=['On-Time', 'Delayed'])}\")\n",
    "print(f\"ROC-AUC score: {roc_auc_score(y_test, best_model_SVM.decision_function(X_test))}\")\n",
    "print(f\"CV_results: {pd.DataFrame(grid_search_SVM.cv_results_)}\")\n"
   ],
   "metadata": {
    "collapsed": false,
    "is_executing": true
   },
   "id": "ed29cc73e7dcb9cf"
  },
  {
   "cell_type": "code",
   "execution_count": null,
   "outputs": [],
   "source": [
    "fpr, tpr, thresholds = roc_curve(y_test, best_model_SVM.decision_function(X_test))\n",
    "roc_auc = auc(fpr, tpr)\n",
    "plt.figure(figsize=(8, 6))\n",
    "plt.plot(fpr, tpr, color='darkorange', lw=2, label='ROC curve (area = {:.2f})'.format(roc_auc))\n",
    "plt.plot([0, 1], [0, 1], color='navy', lw=2, linestyle='--')\n",
    "plt.xlim([0.0, 1.0])\n",
    "plt.ylim([0.0, 1.05])\n",
    "plt.xlabel('False Positive Rate')\n",
    "plt.ylabel('True Positive Rate')\n",
    "plt.title('Receiver Operating Characteristic (SVM)')\n",
    "plt.legend(loc='lower right')\n",
    "plt.show()\n"
   ],
   "metadata": {
    "collapsed": false,
    "is_executing": true
   },
   "id": "8b4d55668d00394c"
  },
  {
   "cell_type": "code",
   "execution_count": null,
   "outputs": [],
   "source": [
    "ConfusionMatrixDisplay(confusion_matrix=cm_SVM, display_labels=['On-Time', 'Delayed']).plot()"
   ],
   "metadata": {
    "collapsed": false,
    "is_executing": true
   },
   "id": "52aa7796053f64ba"
  },
  {
   "cell_type": "markdown",
   "source": [
    "### Случайный лес (Random Forest)"
   ],
   "metadata": {
    "collapsed": false
   },
   "id": "c7ce32ceddc2cf27"
  },
  {
   "cell_type": "code",
   "execution_count": null,
   "outputs": [],
   "source": [
    "rf = RandomForestClassifier(random_state=12)\n",
    "\n",
    "param_grid = {\n",
    "    'n_estimators': [100, 150],\n",
    "    'max_depth': [10, 20, None],\n",
    "    #'min_samples_split': [2, 5, 10],\n",
    "    #'min_samples_leaf': [1, 2, 4],\n",
    "}\n",
    "\n",
    "grid_search_RF = GridSearchCV(rf, param_grid, cv=5, scoring='accuracy', n_jobs=-1)\n",
    "grid_search_RF.fit(X_train, y_train)"
   ],
   "metadata": {
    "collapsed": false,
    "is_executing": true
   },
   "id": "2ae9e43d5cb47f3f"
  },
  {
   "cell_type": "code",
   "execution_count": null,
   "outputs": [],
   "source": [
    "best_model_RF = grid_search_RF.best_estimator_\n",
    "best_params_RF = grid_search_RF.best_params_\n",
    "best_score_RF = grid_search_RF.best_score_\n",
    "print(f\"best params: {best_params_RF}\")\n",
    "print(f\"best score: {best_score_RF}\")\n",
    "pred_RF = best_model_RF.predict(X_test)\n",
    "cm_RF = confusion_matrix(y_test, pred_RF)\n",
    "print(f\"Confusion_matrix:\\n{confusion_matrix(y_test, pred_RF)}\")\n",
    "print(f\"Precision, recall, and f1-score:\\n{classification_report(y_test, pred_RF, target_names=['On-Time', 'Delayed'])}\")\n",
    "print(f\"ROC-AUC score: {roc_auc_score(y_test, best_model_RF.predict_proba(X_test)[:, 1])}\")\n"
   ],
   "metadata": {
    "collapsed": false,
    "is_executing": true
   },
   "id": "21f67a68027c0ad2"
  },
  {
   "cell_type": "code",
   "execution_count": null,
   "outputs": [],
   "source": [
    "y_pred_prob = best_model_RF.predict_proba(X_test)[:, 1]\n",
    "\n",
    "# Compute the ROC curve and AUC\n",
    "fpr, tpr, thresholds = roc_curve(y_test, y_pred_prob)\n",
    "roc_auc = roc_auc_score(y_test, y_pred_prob)\n",
    "\n",
    "# Visualize the ROC curve\n",
    "plt.figure(figsize=(8, 6))\n",
    "plt.plot(fpr, tpr, color='darkorange', lw=2, label=f'ROC curve (AUC = {roc_auc:.2f})')\n",
    "plt.plot([0, 1], [0, 1], color='navy', lw=2, linestyle='--')\n",
    "plt.xlim([0.0, 1.0])\n",
    "plt.ylim([0.0, 1.05])\n",
    "plt.xlabel('False Positive Rate')\n",
    "plt.ylabel('True Positive Rate')\n",
    "plt.title('Receiver Operating Characteristic (ROC)')\n",
    "plt.legend(loc='lower right')\n",
    "plt.show()"
   ],
   "metadata": {
    "collapsed": false,
    "is_executing": true
   },
   "id": "976be1f59a8d80b2"
  },
  {
   "cell_type": "code",
   "execution_count": null,
   "outputs": [],
   "source": [
    "# Extract feature importances\n",
    "feature_importances = best_model_RF.feature_importances_\n",
    "\n",
    "# Create a DataFrame with feature names and their importance scores\n",
    "feature_importance_df = pd.DataFrame({'Feature': X_train.columns, 'Importance': feature_importances})\n",
    "\n",
    "# Sort by importance\n",
    "feature_importance_df = feature_importance_df.sort_values(by='Importance', ascending=False)\n",
    "\n",
    "# Number of top features to visualize\n",
    "top_n = 10\n",
    "\n",
    "# Plot the top N important features\n",
    "plt.figure(figsize=(12, 6))\n",
    "plt.bar(feature_importance_df['Feature'][:top_n], feature_importance_df['Importance'][:top_n], color='skyblue')\n",
    "plt.xlabel('Feature')\n",
    "plt.ylabel('Importance')\n",
    "plt.title(f'Top {top_n} Important Features')\n",
    "plt.xticks(rotation=45)\n",
    "plt.show()"
   ],
   "metadata": {
    "collapsed": false,
    "is_executing": true
   },
   "id": "3af2e6b0137d6f64"
  },
  {
   "cell_type": "code",
   "execution_count": null,
   "outputs": [],
   "source": [],
   "metadata": {
    "collapsed": false,
    "is_executing": true
   },
   "id": "f42442bab17dd5cc"
  }
 ],
 "metadata": {
  "kernelspec": {
   "display_name": "Python 3",
   "language": "python",
   "name": "python3"
  },
  "language_info": {
   "codemirror_mode": {
    "name": "ipython",
    "version": 2
   },
   "file_extension": ".py",
   "mimetype": "text/x-python",
   "name": "python",
   "nbconvert_exporter": "python",
   "pygments_lexer": "ipython2",
   "version": "2.7.6"
  }
 },
 "nbformat": 4,
 "nbformat_minor": 5
}
